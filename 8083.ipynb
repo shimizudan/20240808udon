{
 "cells": [
  {
   "cell_type": "code",
   "execution_count": 1,
   "metadata": {},
   "outputs": [
    {
     "data": {
      "text/plain": [
       "soi (generic function with 1 method)"
      ]
     },
     "metadata": {},
     "output_type": "display_data"
    }
   ],
   "source": [
    "#パッケージ（組合せ）\n",
    "using Combinatorics\n",
    "\n",
    "#soi関数\n",
    "function soi(A::Vector,B::Vector)\n",
    "    X = B\n",
    "    l = length(A)\n",
    "    for i = 1:l\n",
    "        pushfirst!(X,A[i])\n",
    "    end\n",
    "    X\n",
    "end"
   ]
  },
  {
   "cell_type": "code",
   "execution_count": 2,
   "metadata": {},
   "outputs": [
    {
     "name": "stdout",
     "output_type": "stream",
     "text": [
      "soi([1], [2]) = [1, 2]\n",
      "soi([1], [2, 3]) = [1, 2, 3]\n",
      "soi([1, 2], [3]) = [2, 1, 3]\n",
      "soi([1, 2, 3], [4]) = [3, 2, 1, 4]\n"
     ]
    }
   ],
   "source": [
    "# 例\n",
    "@show soi([1],[2]);\n",
    "@show soi([1],[2,3]);\n",
    "@show soi([1,2],[3]);\n",
    "@show soi([1,2,3],[4]);"
   ]
  },
  {
   "cell_type": "code",
   "execution_count": 3,
   "metadata": {},
   "outputs": [
    {
     "data": {
      "text/plain": [
       "catalan_check (generic function with 1 method)"
      ]
     },
     "metadata": {},
     "output_type": "display_data"
    }
   ],
   "source": [
    "\n",
    "#左端からどの番まででも（1の個数）≧（2の個数）となっているかチェック\n",
    "function catalan_check(sequence::Vector{Int})\n",
    "    count1 = 0\n",
    "    count2 = 0\n",
    "    for i in sequence\n",
    "        if i == 1\n",
    "            count1 += 1\n",
    "        elseif i == 2\n",
    "            count2 += 1\n",
    "        end\n",
    "        if count2 > count1\n",
    "            return false\n",
    "        end\n",
    "    end\n",
    "    return true\n",
    "end"
   ]
  },
  {
   "cell_type": "code",
   "execution_count": 4,
   "metadata": {},
   "outputs": [
    {
     "name": "stdout",
     "output_type": "stream",
     "text": [
      "catalan_check([1, 1, 1, 1, 2, 2, 2, 2]) = true\n",
      "catalan_check([1, 2, 1, 1, 2, 1, 2, 2]) = true\n",
      "catalan_check([2, 2, 2, 2, 1, 1, 1, 1]) = false\n",
      "catalan_check([1, 2, 2, 1, 2, 1, 1, 2]) = false\n"
     ]
    }
   ],
   "source": [
    "#チェック例\n",
    "@show catalan_check([1,1,1,1,2,2,2,2]);\n",
    "@show catalan_check([1,2,1,1,2,1,2,2]);\n",
    "@show catalan_check([2,2,2,2,1,1,1,1]);\n",
    "@show catalan_check([1,2,2,1,2,1,1,2]);\n"
   ]
  },
  {
   "cell_type": "code",
   "execution_count": 5,
   "metadata": {},
   "outputs": [
    {
     "data": {
      "text/plain": [
       "catalan_list (generic function with 1 method)"
      ]
     },
     "metadata": {},
     "output_type": "display_data"
    }
   ],
   "source": [
    "#1がn個，2がn個を一列に並べたリストを（1の個数）≧（2の個数）でチェック\n",
    "#総数はカタラン数C(n+1)である\n",
    "function catalan_list(n)\n",
    "    X = [i for i = 1:2*n]\n",
    "    Z = []\n",
    "    for  x in combinations(X,n)\n",
    "        Y = ones(Int64,2*n)\n",
    "        for i in x\n",
    "            Y[i] = 2\n",
    "        end\n",
    "        push!(Z,Y)\n",
    "    end\n",
    "    filter(catalan_check, Z)\n",
    "end"
   ]
  },
  {
   "cell_type": "code",
   "execution_count": 6,
   "metadata": {},
   "outputs": [
    {
     "data": {
      "text/plain": [
       "14-element Vector{Any}:\n",
       " [1, 2, 1, 2, 1, 2, 1, 2]\n",
       " [1, 2, 1, 2, 1, 1, 2, 2]\n",
       " [1, 2, 1, 1, 2, 2, 1, 2]\n",
       " [1, 2, 1, 1, 2, 1, 2, 2]\n",
       " [1, 2, 1, 1, 1, 2, 2, 2]\n",
       " [1, 1, 2, 2, 1, 2, 1, 2]\n",
       " [1, 1, 2, 2, 1, 1, 2, 2]\n",
       " [1, 1, 2, 1, 2, 2, 1, 2]\n",
       " [1, 1, 2, 1, 2, 1, 2, 2]\n",
       " [1, 1, 2, 1, 1, 2, 2, 2]\n",
       " [1, 1, 1, 2, 2, 2, 1, 2]\n",
       " [1, 1, 1, 2, 2, 1, 2, 2]\n",
       " [1, 1, 1, 2, 1, 2, 2, 2]\n",
       " [1, 1, 1, 1, 2, 2, 2, 2]"
      ]
     },
     "metadata": {},
     "output_type": "display_data"
    }
   ],
   "source": [
    "#n=4の時のカタラン数のリスト\n",
    "catalan_list(4)"
   ]
  },
  {
   "cell_type": "code",
   "execution_count": 7,
   "metadata": {},
   "outputs": [
    {
     "data": {
      "text/plain": [
       "soi_seq (generic function with 1 method)"
      ]
     },
     "metadata": {},
     "output_type": "display_data"
    }
   ],
   "source": [
    "#カタラン数のリストからsoi関数で変換\n",
    "function soi_seq(X::Vector)\n",
    "    l = length(X)\n",
    "    m = l//2 +1|> Int64\n",
    "    P = [[i] for i = 1:m]\n",
    "    count1 = 0\n",
    "    count2 = 0\n",
    "    while l >0\n",
    "        if X[l] == 1\n",
    "            A = soi(P[m-count2],P[m-count2+1])\n",
    "            deleteat!(P, m-count2)\n",
    "            deleteat!(P, m-count2)\n",
    "            insert!(P,  m-count2,A)\n",
    "            count1 += 1\n",
    "        elseif X[l] == 2\n",
    "            count2 += 1\n",
    "        end\n",
    "        l -= 1\n",
    "    end\n",
    "    X => P[1]\n",
    "end"
   ]
  },
  {
   "cell_type": "code",
   "execution_count": 11,
   "metadata": {},
   "outputs": [
    {
     "name": "stdout",
     "output_type": "stream",
     "text": [
      "soi_seq(i) = [1, 2, 1, 2, 1, 2, 1, 2] => [1, 2, 3, 4, 5]\n",
      "soi_seq(i) = [1, 2, 1, 2, 1, 1, 2, 2] => [1, 2, 4, 3, 5]\n",
      "soi_seq(i) = [1, 2, 1, 1, 2, 2, 1, 2] => [1, 3, 2, 4, 5]\n",
      "soi_seq(i) = [1, 2, 1, 1, 2, 1, 2, 2] => [1, 4, 3, 2, 5]\n",
      "soi_seq(i) = [1, 2, 1, 1, 1, 2, 2, 2] => [1, 4, 2, 3, 5]\n",
      "soi_seq(i) = [1, 1, 2, 2, 1, 2, 1, 2] => [2, 1, 3, 4, 5]\n",
      "soi_seq(i) = [1, 1, 2, 2, 1, 1, 2, 2] => [2, 1, 4, 3, 5]\n",
      "soi_seq(i) = [1, 1, 2, 1, 2, 2, 1, 2] => [3, 2, 1, 4, 5]\n",
      "soi_seq(i) = [1, 1, 2, 1, 2, 1, 2, 2] => [4, 3, 2, 1, 5]\n",
      "soi_seq(i) = [1, 1, 2, 1, 1, 2, 2, 2] => [4, 2, 3, 1, 5]\n",
      "soi_seq(i) = [1, 1, 1, 2, 2, 2, 1, 2] => [3, 1, 2, 4, 5]\n",
      "soi_seq(i) = [1, 1, 1, 2, 2, 1, 2, 2] => [4, 3, 1, 2, 5]\n",
      "soi_seq(i) = [1, 1, 1, 2, 1, 2, 2, 2] => [4, 1, 2, 3, 5]\n",
      "soi_seq(i) = [1, 1, 1, 1, 2, 2, 2, 2] => [4, 2, 1, 3, 5]\n"
     ]
    }
   ],
   "source": [
    "#n=4でチェック\n",
    "for i  ∈ catalan_list(4)\n",
    "    @show soi_seq(i)\n",
    "end"
   ]
  },
  {
   "cell_type": "code",
   "execution_count": 12,
   "metadata": {},
   "outputs": [
    {
     "data": {
      "text/plain": [
       "inverse_soi_seq (generic function with 1 method)"
      ]
     },
     "metadata": {},
     "output_type": "display_data"
    }
   ],
   "source": [
    "# soi_seqの逆変換を行う関数\n",
    "function inverse_soi_seq(sequence::Vector)\n",
    "    n = length(sequence) -1\n",
    "    \n",
    "    # カタラン数リストを生成\n",
    "    catalan_seqs = catalan_list(n)\n",
    "    \n",
    "    # 与えられたシーケンスがカタラン数リストに対応するかチェック\n",
    "    for seq in catalan_seqs\n",
    "        _, transformed = soi_seq(seq)\n",
    "        if transformed == sequence\n",
    "            return seq\n",
    "        end\n",
    "    end\n",
    "    \n",
    "    return \"対応するカタラン数のリストはない\"\n",
    "end"
   ]
  },
  {
   "cell_type": "code",
   "execution_count": 15,
   "metadata": {},
   "outputs": [
    {
     "name": "stdout",
     "output_type": "stream",
     "text": [
      "inverse_soi_seq([1, 2, 4, 3, 5, 6]) = [1, 2, 1, 2, 1, 1, 2, 2, 1, 2]\n",
      "inverse_soi_seq([1, 2, 4, 3, 6, 5]) = \"対応するカタラン数のリストはない\"\n",
      "inverse_soi_seq([1, 2, 3, 4, 6, 5]) = \"対応するカタラン数のリストはない\"\n",
      "inverse_soi_seq([2, 1, 3, 4, 5, 6]) = [1, 1, 2, 2, 1, 2, 1, 2, 1, 2]\n"
     ]
    }
   ],
   "source": [
    "#逆変換の例\n",
    "@show inverse_soi_seq([1,2,4,3,5,6]);\n",
    "@show inverse_soi_seq([1,2,4,3,6,5]);\n",
    "@show inverse_soi_seq([1,2,3,4,6,5]);\n",
    "@show inverse_soi_seq([2,1,3,4,5,6]);"
   ]
  },
  {
   "cell_type": "code",
   "execution_count": null,
   "metadata": {},
   "outputs": [],
   "source": []
  }
 ],
 "metadata": {
  "kernelspec": {
   "display_name": "Julia 1.10.4",
   "language": "julia",
   "name": "julia-1.10"
  },
  "language_info": {
   "file_extension": ".jl",
   "mimetype": "application/julia",
   "name": "julia",
   "version": "1.10.4"
  }
 },
 "nbformat": 4,
 "nbformat_minor": 2
}
